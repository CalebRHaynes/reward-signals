{
 "cells": [
  {
   "cell_type": "code",
   "execution_count": 2,
   "metadata": {},
   "outputs": [],
   "source": [
    "import pandas as pd\n",
    "import glob"
   ]
  },
  {
   "cell_type": "code",
   "execution_count": 3,
   "metadata": {},
   "outputs": [],
   "source": [
    "file_list = glob.glob('../data/behavioral/sub-10*.csv')"
   ]
  },
  {
   "cell_type": "code",
   "execution_count": 4,
   "metadata": {},
   "outputs": [
    {
     "name": "stdout",
     "output_type": "stream",
     "text": [
      "['../data/behavioral/sub-1002.csv', '../data/behavioral/sub-1003.csv', '../data/behavioral/sub-1005.csv', '../data/behavioral/sub-1006.csv', '../data/behavioral/sub-1007.csv', '../data/behavioral/sub-1008.csv', '../data/behavioral/sub-1009.csv', '../data/behavioral/sub-1010.csv', '../data/behavioral/sub-1011.csv', '../data/behavioral/sub-1012.csv', '../data/behavioral/sub-1013.csv', '../data/behavioral/sub-1014.csv', '../data/behavioral/sub-1015.csv', '../data/behavioral/sub-1016.csv', '../data/behavioral/sub-1017.csv', '../data/behavioral/sub-1018.csv', '../data/behavioral/sub-1019.csv', '../data/behavioral/sub-1020.csv', '../data/behavioral/sub-1021.csv', '../data/behavioral/sub-1022.csv', '../data/behavioral/sub-1023.csv', '../data/behavioral/sub-1024.csv', '../data/behavioral/sub-1025.csv', '../data/behavioral/sub-1026.csv', '../data/behavioral/sub-1027.csv', '../data/behavioral/sub-1028.csv']\n"
     ]
    }
   ],
   "source": [
    "print(file_list)"
   ]
  },
  {
   "cell_type": "code",
   "execution_count": 32,
   "metadata": {},
   "outputs": [],
   "source": [
    "for i in file_list:\n",
    "    \n",
    "    df = pd.read_csv(i)\n",
    "    df['trialtype'] = 1\n",
    "    df = df.loc[:, ['deckchoice', 'soc_win', 'trialtype']]\n",
    "    \n",
    "    df.deckchoice = df.deckchoice.replace([22], 2)\n",
    "    df.deckchoice = df.deckchoice.replace([11], 1)\n",
    "    df.deckchoice = df.deckchoice.replace([0], -99)\n",
    "\n",
    "    df.to_csv('data/' + i[-12:], index = False)"
   ]
  }
 ],
 "metadata": {
  "kernelspec": {
   "display_name": "Python 3",
   "language": "python",
   "name": "python3"
  },
  "language_info": {
   "codemirror_mode": {
    "name": "ipython",
    "version": 3
   },
   "file_extension": ".py",
   "mimetype": "text/x-python",
   "name": "python",
   "nbconvert_exporter": "python",
   "pygments_lexer": "ipython3",
   "version": "3.8.5"
  }
 },
 "nbformat": 4,
 "nbformat_minor": 4
}
