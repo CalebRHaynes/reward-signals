{
 "cells": [
  {
   "cell_type": "code",
   "execution_count": 1,
   "metadata": {},
   "outputs": [],
   "source": [
    "import pandas as pd\n",
    "import glob\n",
    "import numpy as np\n",
    "import matplotlib.pyplot as plt\n",
    "import pandas as pd\n",
    "pd.options.mode.chained_assignment = None  "
   ]
  },
  {
   "cell_type": "code",
   "execution_count": 2,
   "metadata": {},
   "outputs": [],
   "source": [
    "df_list = glob.glob('../data/behavioral/sub-10*')"
   ]
  },
  {
   "cell_type": "code",
   "execution_count": 3,
   "metadata": {},
   "outputs": [],
   "source": [
    "#functions that can be used to make columns\n",
    "\n",
    "\n",
    "#previous trial was a win and marginally larger than the prior that was also a win. apply within choices maintains \"stays\"\n",
    "\n",
    "def win_stay(row):\n",
    "    if (row['point_total'] > (row['prev_points'] + 3)):\n",
    "        return 1\n",
    "    else:\n",
    "        return 0\n",
    "    \n",
    "def lose_switch(row):\n",
    "    if (row['point_total'] < (row['prev_points'] +3)):\n",
    "        return 1\n",
    "    else:\n",
    "        return 0\n",
    "\n",
    "#previous partner social or nonsocial (computer)\n",
    "\n",
    "def win_stay_partner_prev_soc(row):\n",
    "    if (row['win_stay'] == 1 and \n",
    "       row['prev_partner'] == 1\n",
    "       ):\n",
    "        return 1\n",
    "    else:\n",
    "        return 0\n",
    "    \n",
    "def win_stay_partner_prev_comp(row):\n",
    "    if (row['win_stay'] == 1 and\n",
    "        row['prev_partner'] == 0\n",
    "        ):\n",
    "        return 1\n",
    "    else:\n",
    "        return 0\n",
    "    \n",
    "def lose_switch_partner_prev_soc(row):\n",
    "    if (row['lose_switch'] == 1 and \n",
    "       row['prev_partner'] == 1\n",
    "        ):\n",
    "        return 1\n",
    "    else:\n",
    "        return 0\n",
    "    \n",
    "def lose_switch_partner_prev_comp(row):\n",
    "    if (row['lose_switch'] == 1 and \n",
    "       row['prev_partner'] == 0\n",
    "       ):\n",
    "        return 1\n",
    "    else:\n",
    "        return 0\n",
    "    \n",
    "#current trial social or nonsocial\n",
    "\n",
    "#win stay\n",
    "def win_stay_partner_current_soc(row):\n",
    "    if row['win_stay'] == 1 and row['partner'] == 1:\n",
    "        return 1\n",
    "    else:\n",
    "        return 0\n",
    "\n",
    "def win_stay_partner_current_comp(row):\n",
    "    if row['win_stay'] == 1 and row['partner'] == 0:\n",
    "        return 1\n",
    "    else:\n",
    "        return 0\n",
    "\n",
    "#lose switch\n",
    "def lose_switch_partner_current_soc(row):\n",
    "    if row['lose_switch'] == 1 and row['partner'] == 1:\n",
    "        return 1\n",
    "    else:\n",
    "        return 0\n",
    "\n",
    "def lose_switch_partner_current_comp(row):\n",
    "    if row['lose_switch'] == 1 and row['partner'] == 0:\n",
    "        return 1\n",
    "    else:\n",
    "        return 0\n",
    "\n",
    "#affective output of prior     \n",
    "    \n",
    "def affective_prior_win(row):\n",
    "    if row['win_stay'] == 1 and row['prev_affect'] == 1:\n",
    "        return 1\n",
    "    else:\n",
    "        return 0\n",
    "\n",
    "def affective_prior_loss(row):\n",
    "    if row['lose_switch'] == 1 and row['prev_affect'] == 0:\n",
    "        return 1\n",
    "    else:\n",
    "        return 0\n"
   ]
  },
  {
   "cell_type": "code",
   "execution_count": 8,
   "metadata": {},
   "outputs": [
    {
     "name": "stdout",
     "output_type": "stream",
     "text": [
      "    Npoints  lapse1  lapse2  deckchoice       RT1       RT2  choice_onset  \\\n",
      "0        54       0       0           1  1.285837  0.000000      4.816692   \n",
      "1        53       0       0           1  0.479372  1.339324     22.332338   \n",
      "2        51       0       0           1  0.454243  1.239091     43.331678   \n",
      "3        48       0       0           1  0.352794  0.000000     65.331032   \n",
      "4        30       0       0          22  0.000000  1.532243      0.000000   \n",
      "..      ...     ...     ...         ...       ...       ...           ...   \n",
      "75       60       0       0           2  0.000718  0.922049    685.294474   \n",
      "76        0       0       1           0  0.000713  0.000000    706.293808   \n",
      "77        0       1       0           0  0.000000  0.000000    725.559918   \n",
      "78       73       0       0           2  0.000766  1.510709    747.809152   \n",
      "79       69       0       0           2  0.000723  0.750829    765.808633   \n",
      "\n",
      "    press1_onset  info_onset  partner_onset  ...  win_stay_partner_prev_comp  \\\n",
      "0       6.102558    9.784389       0.000000  ...                           0   \n",
      "1      22.811745   26.329945      29.815556  ...                           0   \n",
      "2      43.785953   47.314798      53.814713  ...                           0   \n",
      "3      65.697764   69.314191       0.000000  ...                           0   \n",
      "4       0.000000    0.000000      80.063746  ...                           0   \n",
      "..           ...         ...            ...  ...                         ...   \n",
      "75    685.311137  689.544411     692.777498  ...                           0   \n",
      "76    706.310469  711.543747     714.776802  ...                           0   \n",
      "77      0.000000    0.000000       0.000000  ...                           0   \n",
      "78    747.825806  752.042411     755.292166  ...                           0   \n",
      "79    765.825231  770.041816     774.291562  ...                           0   \n",
      "\n",
      "    win_stay_partner_prev_soc  win_stay_partner_current_comp  \\\n",
      "0                           0                              0   \n",
      "1                           0                              0   \n",
      "2                           0                              0   \n",
      "3                           0                              0   \n",
      "4                           1                              1   \n",
      "..                        ...                            ...   \n",
      "75                          0                              0   \n",
      "76                          0                              0   \n",
      "77                          0                              0   \n",
      "78                          0                              0   \n",
      "79                          0                              0   \n",
      "\n",
      "    win_stay_partner_current_soc  lose_switch_partner_prev_comp  \\\n",
      "0                              0                              0   \n",
      "1                              0                              0   \n",
      "2                              0                              1   \n",
      "3                              0                              0   \n",
      "4                              0                              0   \n",
      "..                           ...                            ...   \n",
      "75                             0                              1   \n",
      "76                             0                              1   \n",
      "77                             0                              0   \n",
      "78                             0                              1   \n",
      "79                             0                              0   \n",
      "\n",
      "    lose_switch_partner_prev_soc  lose_switch_partner_current_comp  \\\n",
      "0                              0                                 0   \n",
      "1                              1                                 1   \n",
      "2                              0                                 0   \n",
      "3                              1                                 0   \n",
      "4                              0                                 0   \n",
      "..                           ...                               ...   \n",
      "75                             0                                 1   \n",
      "76                             0                                 0   \n",
      "77                             1                                 1   \n",
      "78                             0                                 0   \n",
      "79                             1                                 1   \n",
      "\n",
      "    lose_switch_partner_current_soc  affective_prior_win  affective_prior_loss  \n",
      "0                                 0                    0                     0  \n",
      "1                                 0                    0                     1  \n",
      "2                                 1                    0                     1  \n",
      "3                                 1                    0                     1  \n",
      "4                                 0                    0                     0  \n",
      "..                              ...                  ...                   ...  \n",
      "75                                0                    0                     0  \n",
      "76                                1                    0                     1  \n",
      "77                                0                    0                     0  \n",
      "78                                1                    0                     0  \n",
      "79                                0                    0                     1  \n",
      "\n",
      "[80 rows x 44 columns]\n"
     ]
    }
   ],
   "source": [
    "wins = []\n",
    "loss = []\n",
    "\n",
    "win_stay_prev_comp_l = []\n",
    "win_stay_prev_soc_l = []\n",
    "\n",
    "win_stay_current_comp_l = []\n",
    "win_stay_current_soc_l = []\n",
    "\n",
    "lose_switch_prev_comp_l = []\n",
    "lose_switch_prev_soc_l = []\n",
    "\n",
    "lose_switch_current_comp_l = []\n",
    "lose_switch_current_soc_l = []\n",
    "\n",
    "for i in df_list[0:1]:\n",
    "    df = pd.read_csv(i)\n",
    "\n",
    "    #sets up columns with shift function to allow above functions to run per row\n",
    "    #df.loc[df['prev_win']] = df['soc_win'].shift()\n",
    "    #df['earlier_win'] = df['prev_win'].shift()\n",
    "    \n",
    "    #shift for deck choice\n",
    "    df['prev_deckchoice'] = df['deckchoice'].shift()\n",
    "\n",
    "    #shifts for points\n",
    "    df['prev_points'] = df['point_total'].shift()\n",
    "    \n",
    "    #partner\n",
    "    df['prev_partner'] = df['partner'].shift()\n",
    "    \n",
    "    #prev affect\n",
    "    df['prev_affect'] = df['soc_win'].shift()    \n",
    "\n",
    "    #apply functions \n",
    "    \n",
    "    df['win_stay'] = df.apply(win_stay, axis=1)  \n",
    "    df['lose_switch'] = df.apply(lose_switch, axis=1)\n",
    "    \n",
    "    df['win_stay_partner_prev_comp'] = df.apply(win_stay_partner_prev_comp, axis=1)\n",
    "    df['win_stay_partner_prev_soc'] = df.apply(win_stay_partner_prev_soc, axis=1)\n",
    "    \n",
    "    df['win_stay_partner_current_comp'] = df.apply(win_stay_partner_current_comp, axis=1)\n",
    "    df['win_stay_partner_current_soc'] = df.apply(win_stay_partner_current_soc, axis=1)\n",
    "    \n",
    "    df['lose_switch_partner_prev_comp'] = df.apply(lose_switch_partner_prev_comp, axis=1)\n",
    "    df['lose_switch_partner_prev_soc'] = df.apply(lose_switch_partner_prev_soc, axis=1)\n",
    "    \n",
    "    df['lose_switch_partner_current_comp'] = df.apply(lose_switch_partner_current_comp, axis=1)\n",
    "    df['lose_switch_partner_current_soc'] = df.apply(lose_switch_partner_current_soc, axis=1)\n",
    "    \n",
    "    df['affective_prior_win'] = df.apply(affective_prior_win, axis=1)  \n",
    "    df['affective_prior_loss'] = df.apply(affective_prior_loss, axis=1)\n",
    "    \n",
    "    print(df.iloc[:, 2:])\n",
    "    #all_wins = (df['point_total'] > df['prev_points'] + 3).count()\n",
    "    #all_loss = (df['point_total'] < df['prev_points'] - 3).count()\n",
    "    \n",
    "    #win_stays = (df['win_stay'].sum())\n",
    "    #lose_switches = (df['lose_switch'].sum())\n",
    "    \n",
    "    #win_stay_prev_comp = (df['win_stay_partner_prev_comp'].sum())\n",
    "    #win_stay_prev_soc = (df['win_stay_partner_prev_soc'].sum())\n",
    "    \n",
    "    #win_stay_current_comp = (df['win_stay_partner_current_comp'].sum())\n",
    "    #win_stay_current_soc = (df['win_stay_partner_current_soc'].sum())\n",
    "    \n",
    "    #lose_switch_prev_comp = (df['lose_switch_partner_prev_comp'].sum())\n",
    "    #lose_switch_prev_soc = (df['lose_switch_partner_prev_soc'].sum())\n",
    "    \n",
    "    #lose_switch_current_comp = (df['lose_switch_partner_current_comp'].sum())\n",
    "    #lose_switch_current_soc = (df['lose_switch_partner_current_soc'].sum())\n",
    "    \n",
    "    ##calculate averages\n",
    "    #win_stay_perc = win_stays / all_wins\n",
    "    #lose_switch_perc = lose_switches / all_loss\n",
    "\n",
    "    #win_stay_prev_comp_perc = win_stay_prev_comp / all_wins\n",
    "    #win_stay_prev_soc_perc = win_stay_prev_soc / all_loss\n",
    "    \n",
    "    #win_stay_current_comp_perc = win_stay_current_comp / all_wins\n",
    "    #win_stay_current_soc_perc = win_stay_current_soc / all_loss\n",
    "    \n",
    "    #lose_switch_prev_comp_perc = lose_switch_prev_comp / all_wins\n",
    "    #lose_switch_prev_soc_perc = lose_switch_prev_soc / all_loss\n",
    "    \n",
    "    #lose_switch_current_comp_perc = lose_switch_current_comp / all_wins\n",
    "    #lose_switch_current_soc_perc = lose_switch_current_soc / all_loss\n",
    "    \n",
    "    #add to list\n",
    "    #wins.append(win_stay_perc)\n",
    "    #loss.append(lose_switch_perc)\n",
    "\n",
    "    #win_stay_prev_comp_l.append(win_stay_prev_comp_perc)\n",
    "    #win_stay_prev_soc_l.append(win_stay_prev_soc_perc)\n",
    "       \n",
    "    #win_stay_current_comp_l.append(win_stay_current_comp_perc)\n",
    "    #win_stay_current_soc_l.append(win_stay_current_soc_perc)\n",
    "    \n",
    "    #lose_switch_prev_comp_l.append(lose_switch_prev_comp_perc)\n",
    "    #lose_switch_prev_soc_l.append(lose_switch_prev_soc_perc)\n",
    "       \n",
    "    #lose_switch_current_comp_l.append(lose_switch_current_comp_perc)\n",
    "    #lose_switch_current_soc_l.append(lose_switch_current_soc_perc)    "
   ]
  },
  {
   "cell_type": "code",
   "execution_count": 29,
   "metadata": {},
   "outputs": [
    {
     "data": {
      "text/plain": [
       "<BarContainer object of 2 artists>"
      ]
     },
     "execution_count": 29,
     "metadata": {},
     "output_type": "execute_result"
    },
    {
     "data": {
      "image/png": "[encoded data removed]",
      "text/plain": [
       "<Figure size 432x288 with 1 Axes>"
      ]
     },
     "metadata": {
      "needs_background": "light"
     },
     "output_type": "display_data"
    }
   ],
   "source": [
    "win_stay_mean = np.mean(wins)\n",
    "loss_switch_mean = np.mean(loss)\n",
    "\n",
    "win_stay_error = np.std(wins)\n",
    "loss_switch_error = np.std(loss)\n",
    "\n",
    "fig = plt.figure()\n",
    "strategies = ['Win Stay', 'Lose Shift']\n",
    "plt.xlabel('strategies')\n",
    "plt.ylabel('percentage of wins or losses')\n",
    "plt.title('Win Stay vs. Lose Switch')\n",
    "plt.bar(x = strategies, height = [win_stay_mean,loss_switch_mean], yerr = [win_stay_error, loss_switch_error])"
   ]
  },
  {
   "cell_type": "code",
   "execution_count": 30,
   "metadata": {},
   "outputs": [
    {
     "data": {
      "text/plain": [
       "<BarContainer object of 2 artists>"
      ]
     },
     "execution_count": 30,
     "metadata": {},
     "output_type": "execute_result"
    },
    {
     "data": {
      "image/png": "[encoded data removed]",
      "text/plain": [
       "<Figure size 432x288 with 1 Axes>"
      ]
     },
     "metadata": {
      "needs_background": "light"
     },
     "output_type": "display_data"
    }
   ],
   "source": [
    "win_stay_current_comp_l_mean = np.mean(win_stay_current_comp_l)\n",
    "win_stay_current_soc_l_mean = np.mean(win_stay_current_soc_l)\n",
    "\n",
    "win_stay_current_comp_l_error = np.std(win_stay_current_comp_l)\n",
    "win_stay_current_soc_l_error = np.std(win_stay_current_soc_l)\n",
    "\n",
    "fig = plt.figure()\n",
    "strategies = ['Computer', 'Social']\n",
    "plt.xlabel('strategies')\n",
    "plt.ylabel('percentage of wins or losses')\n",
    "plt.title('Win Stay by Current Partner')\n",
    "plt.bar(x = strategies, height = [win_stay_current_comp_l_mean,win_stay_current_soc_l_mean], yerr = [win_stay_current_comp_l_error, win_stay_current_soc_l_error])"
   ]
  },
  {
   "cell_type": "code",
   "execution_count": 31,
   "metadata": {},
   "outputs": [
    {
     "data": {
      "text/plain": [
       "<BarContainer object of 2 artists>"
      ]
     },
     "execution_count": 31,
     "metadata": {},
     "output_type": "execute_result"
    },
    {
     "data": {
      "image/png": "[encoded data removed]",
      "text/plain": [
       "<Figure size 432x288 with 1 Axes>"
      ]
     },
     "metadata": {
      "needs_background": "light"
     },
     "output_type": "display_data"
    }
   ],
   "source": [
    "win_stay_prev_comp_l_mean = np.mean(win_stay_prev_comp_l)\n",
    "win_stay_prev_soc_l_mean = np.mean(win_stay_prev_soc_l)\n",
    "\n",
    "win_stay_prev_comp_l_error = np.std(win_stay_prev_comp_l)\n",
    "win_stay_prev_soc_l_error = np.std(win_stay_prev_soc_l)\n",
    "\n",
    "fig = plt.figure()\n",
    "strategies = ['Computer', 'Social']\n",
    "plt.xlabel('strategies')\n",
    "plt.ylabel('percentage of wins or losses')\n",
    "plt.title('Win Stay by Previous Partner')\n",
    "plt.bar(x = strategies, height = [win_stay_prev_comp_l_mean,win_stay_prev_soc_l_mean], yerr = [win_stay_prev_comp_l_error, win_stay_prev_soc_l_error])"
   ]
  },
  {
   "cell_type": "code",
   "execution_count": 25,
   "metadata": {},
   "outputs": [
    {
     "data": {
      "text/plain": [
       "<BarContainer object of 2 artists>"
      ]
     },
     "execution_count": 25,
     "metadata": {},
     "output_type": "execute_result"
    },
    {
     "data": {
      "image/png": "[encoded data removed]",
      "text/plain": [
       "<Figure size 432x288 with 1 Axes>"
      ]
     },
     "metadata": {
      "needs_background": "light"
     },
     "output_type": "display_data"
    }
   ],
   "source": [
    "lose_switch_current_comp_l_mean = np.mean(lose_switch_current_comp_l)\n",
    "lose_switch_current_soc_l_mean = np.mean(lose_switch_current_soc_l)\n",
    "\n",
    "lose_switch_current_comp_l_error = np.std(lose_switch_current_comp_l)\n",
    "lose_switch_current_soc_l_error = np.std(lose_switch_current_soc_l)\n",
    "\n",
    "fig = plt.figure()\n",
    "strategies = ['Computer', 'Social']\n",
    "plt.xlabel('strategies')\n",
    "plt.ylabel('percentage of wins or losses')\n",
    "plt.title('Lose Switch by Current Partner')\n",
    "plt.bar(x = strategies, height = [lose_switch_current_comp_l_mean,lose_switch_current_soc_l_mean], yerr = [lose_switch_current_comp_l_error, lose_switch_current_soc_l_error])"
   ]
  },
  {
   "cell_type": "code",
   "execution_count": 32,
   "metadata": {},
   "outputs": [
    {
     "data": {
      "text/plain": [
       "<BarContainer object of 2 artists>"
      ]
     },
     "execution_count": 32,
     "metadata": {},
     "output_type": "execute_result"
    },
    {
     "data": {
      "image/png": "[encoded data removed]",
      "text/plain": [
       "<Figure size 432x288 with 1 Axes>"
      ]
     },
     "metadata": {
      "needs_background": "light"
     },
     "output_type": "display_data"
    }
   ],
   "source": [
    "lose_switch_prev_comp_l_mean = np.mean(lose_switch_prev_comp_l)\n",
    "lose_switch_prev_soc_l_mean = np.mean(lose_switch_prev_soc_l)\n",
    "\n",
    "lose_switch_prev_comp_l_error = np.std(lose_switch_prev_comp_l)\n",
    "lose_switch_prev_soc_l_error = np.std(lose_switch_prev_soc_l)\n",
    "\n",
    "fig = plt.figure()\n",
    "strategies = ['Computer', 'Social']\n",
    "plt.xlabel('strategies')\n",
    "plt.ylabel('percentage of wins or losses')\n",
    "plt.title('Lose Switch by Previous Partner')\n",
    "plt.bar(x = strategies, height = [lose_switch_prev_comp_l_mean,lose_switch_prev_soc_l_mean], yerr = [lose_switch_prev_comp_l_error, lose_switch_prev_soc_l_error])"
   ]
  },
  {
   "cell_type": "code",
   "execution_count": null,
   "metadata": {},
   "outputs": [],
   "source": []
  }
 ],
 "metadata": {
  "kernelspec": {
   "display_name": "Python 3",
   "language": "python",
   "name": "python3"
  },
  "language_info": {
   "codemirror_mode": {
    "name": "ipython",
    "version": 3
   },
   "file_extension": ".py",
   "mimetype": "text/x-python",
   "name": "python",
   "nbconvert_exporter": "python",
   "pygments_lexer": "ipython3",
   "version": "3.8.2"
  }
 },
 "nbformat": 4,
 "nbformat_minor": 4
}
