{
 "cells": [
  {
   "cell_type": "code",
   "execution_count": 1,
   "metadata": {},
   "outputs": [
    {
     "name": "stdout",
     "output_type": "stream",
     "text": [
      "importing Jupyter notebook from rutgers_socreward.ipynb\n"
     ]
    },
    {
     "data": {
      "image/png": "[encoded data removed]",
      "text/plain": [
       "<Figure size 432x288 with 1 Axes>"
      ]
     },
     "metadata": {},
     "output_type": "display_data"
    }
   ],
   "source": [
    "import pandas as pd\n",
    "import numpy\n",
    "import itertools\n",
    "from utility import *\n",
    "import import_ipynb\n",
    "from rutgers_socreward import Subject, subject_list"
   ]
  },
  {
   "cell_type": "code",
   "execution_count": 2,
   "metadata": {},
   "outputs": [],
   "source": [
    "#list of columns for making BIDS tsv file \n",
    "subset = ['deckchoice',\n",
    "          'choice_onset',\n",
    "          \"press1_onset\",\n",
    "          \"info_onset\",\n",
    "          \"partner_onset\",\n",
    "          \"press2_onset\",\n",
    "          'is_social', \n",
    "          'aff_feedback_prev_social', \n",
    "          'aff_feedback_prev_nonsocial',\n",
    "          \"aff_onset\",\n",
    "          \"duration\",\n",
    "          'prev_diff_points',\n",
    "          \"RT1\",\n",
    "          \"RT2\", \n",
    "          'aff_feedback_curr',\n",
    "          \"lapse1\",\n",
    "          \"lapse2\"\n",
    "]"
   ]
  },
  {
   "cell_type": "markdown",
   "metadata": {},
   "source": [
    "#### Onset Type, Description : Duration\n",
    "\n",
    "- choice_onset, Choose star or pentagon: RT1 or 3s \n",
    "- info_onset, Reveal choice value: 1.5s \n",
    "- partner-onset, Reveal Partner Choice: RT2 or 3s\n",
    "- aff_onset,  Affective feedback win or lose: 1.5s"
   ]
  },
  {
   "cell_type": "code",
   "execution_count": 4,
   "metadata": {},
   "outputs": [],
   "source": [
    "def generate_ev(sub, write = False):\n",
    "    nan = 'n/a'\n",
    "    for i in Subject(sub).matfiles:\n",
    "        sub = sub\n",
    "        run = Subject(sub).matfiles.index(i) + 1\n",
    "        trial_dfs = []\n",
    "        df = convert_mat(i)\n",
    "\n",
    "\n",
    "\n",
    "        for index, row in df.iterrows():\n",
    "            trial_df = pd.DataFrame()\n",
    "            onset = []\n",
    "            duration = []\n",
    "            trial_type = []\n",
    "            RT1 = []\n",
    "            RT2 = []\n",
    "            points = []\n",
    "\n",
    "\n",
    "            if row.partner == 1:\n",
    "                is_social = 'social'\n",
    "            else:\n",
    "                is_social = 'non_social'\n",
    "\n",
    "            if row.deckchoice == 0:\n",
    "                choice = 'choice_star'\n",
    "            else:\n",
    "                choice = 'choice_pentagon'\n",
    "\n",
    "            if row.lapse1 == 1 or row.lapse2 == 1:\n",
    "                lapse = '_lapse'\n",
    "                dur_choice = dur_partner = 3\n",
    "            else:\n",
    "                lapse = ''\n",
    "                dur_choice = row.RT1 \n",
    "                dur_partner = row.RT2\n",
    "\n",
    "\n",
    "\n",
    "            if row.deckchoice == 11 or row.deckchoice == 22:\n",
    "                catch = '_catch'\n",
    "                row.choice_onset = 'n/a'\n",
    "                dur_choice = 'n/a'\n",
    "\n",
    "            else:\n",
    "                catch = ''\n",
    "\n",
    "\n",
    "            #choice\n",
    "            onset.append(row.choice_onset)\n",
    "            duration.append(dur_choice)\n",
    "            trial_type.append(f'partner-{is_social}_choice-{choice}{lapse}{catch}')\n",
    "            RT1.append(row.RT1)\n",
    "            RT2.append('n/a')\n",
    "            points.append('n/a')\n",
    "\n",
    "            \n",
    "            #info\n",
    "            onset.append(row.info_onset)\n",
    "            duration.append(1.5)\n",
    "            trial_type.append(f'partner-{is_social}_feedback-informative{lapse}{catch}')\n",
    "            RT1.append('n/a')\n",
    "            RT2.append('n/a')\n",
    "            points.append(row.Npoints)\n",
    "\n",
    "\n",
    "            #partner\n",
    "            onset.append(row.partner_onset)\n",
    "            duration.append(dur_partner)\n",
    "            trial_type.append(f'partner-{is_social}_feedback-partner{lapse}{catch}')\n",
    "            RT1.append('n/a')\n",
    "            RT2.append(row.RT2)\n",
    "            points.append('n/a')\n",
    "\n",
    "\n",
    "            #aff\n",
    "            onset.append(row.aff_onset)\n",
    "            duration.append(1.5)\n",
    "            trial_type.append(f'partner-{is_social}_feedback-affective{lapse}{catch}')\n",
    "            RT1.append('n/a')\n",
    "            RT2.append('n/a')\n",
    "            points.append('n/a')\n",
    "\n",
    "\n",
    "            trial_df['onset'] = onset\n",
    "            trial_df['duration'] = duration\n",
    "            trial_df['trial_type'] = trial_type\n",
    "            trial_df['choice_RT'] = RT1\n",
    "            trial_df['partner_RT'] = RT2\n",
    "            trial_df['points'] = points\n",
    "\n",
    "\n",
    "            trial_dfs.append(trial_df)\n",
    "\n",
    "        bids_tsv = pd.concat(trial_dfs).reset_index()\n",
    "        file_name = f'EVfiles/sub-{sub}_task-socreward_run-{run}_events.tsv'\n",
    "        bids_tsv.to_csv(file_name, index = False)\n",
    "\n",
    "    "
   ]
  },
  {
   "cell_type": "code",
   "execution_count": 6,
   "metadata": {},
   "outputs": [],
   "source": [
    "for sub in subject_list:\n",
    "    generate_ev(sub)"
   ]
  },
  {
   "cell_type": "code",
   "execution_count": 8,
   "metadata": {},
   "outputs": [],
   "source": [
    "#fix index column\n",
    "\n",
    "dfs = glob.glob('EVfiles/*.tsv')\n",
    "\n",
    "for i in dfs:\n",
    "    df = pd.read_csv(i, index_col=False)\n",
    "    df['trialn'] = range(1, len(df) + 1)\n",
    "    df = df.iloc[:, 1:]\n",
    "    df.to_csv(i, sep ='\\t', index = False)\n",
    "    \n",
    "    \n",
    "    \n",
    "    "
   ]
  }
 ],
 "metadata": {
  "kernelspec": {
   "display_name": "Python 3",
   "language": "python",
   "name": "python3"
  },
  "language_info": {
   "codemirror_mode": {
    "name": "ipython",
    "version": 3
   },
   "file_extension": ".py",
   "mimetype": "text/x-python",
   "name": "python",
   "nbconvert_exporter": "python",
   "pygments_lexer": "ipython3",
   "version": "3.8.2"
  }
 },
 "nbformat": 4,
 "nbformat_minor": 4
}
