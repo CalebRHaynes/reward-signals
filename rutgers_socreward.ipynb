{
 "cells": [
  {
   "cell_type": "markdown",
   "metadata": {},
   "source": [
    "## Reward Signals\n",
    "Data Collected at Rutgers University by David Smith"
   ]
  },
  {
   "cell_type": "markdown",
   "metadata": {},
   "source": [
    "### Variable Key\n",
    "\n",
    "#### Raw Data Names\n",
    "- soc_win - affective feedback in a trial. 0 lose and 1 is win \n",
    "- partner - 0 is nonsocial and 1  is social\n",
    "- deckchoice - 1 or 2 based on participant choice of option. 1 = star, 2 = pentagon\n",
    "- lapse1 and lapse2 - participant did not respond in respective decision phase\n",
    "\n",
    "#### Derived Data Names\n",
    "##### Columns renamed\n",
    "- index - renamed from raw data index\n",
    "- choice - renamed from raw data column 'deckchoice'\n",
    "- is_social - renamed from raw data column 'partner'\n",
    "- aff_feedback_curr - renamed from raw data 'soc_win'\n",
    "\n",
    "##### Columns derived\n",
    "- aff_feedback_prev - aff_feedback_curr shifted by one trial to reflect trial -1\n",
    "- prev_is_social - is_social shifted by one trial to reflect trial -1\n",
    "- prev_aff_fb - affective feedback in the previous trial, 0 is lose and 1 is win\n",
    "- star_points - known value of option 1 \n",
    "- pentagon_points - known value of option 2 \n",
    "- diff_point - star_points - pentagon_points"
   ]
  },
  {
   "cell_type": "code",
   "execution_count": 1,
   "metadata": {},
   "outputs": [],
   "source": [
    "import pandas as pd\n",
    "from utility import *\n",
    "\n",
    "#sub class for easy dataframe access\n",
    "class Subject():\n",
    "\n",
    "    def __init__(self, subnum):\n",
    "        self.subnum = subnum\n",
    "        self.matfiles = [i for i in file_list if str(subnum) in i]\n",
    "        self.df = make_derived_df(self.matfiles)"
   ]
  },
  {
   "cell_type": "markdown",
   "metadata": {},
   "source": [
    "#### Logistic Models"
   ]
  },
  {
   "cell_type": "code",
   "execution_count": 13,
   "metadata": {},
   "outputs": [],
   "source": [
    "from sklearn.linear_model import LogisticRegression\n",
    "import seaborn as sns\n",
    "import scipy.stats as stats\n",
    "\n",
    "#list of regressors\n",
    "subset = ['choice', 'is_social', 'aff_feedback_prev',\n",
    "                             'prev_diff_points']\n",
    "\n",
    "#gets beta weights predicting choice \n",
    "def get_model_weights(df):\n",
    "    \n",
    "    #data labels, recode 1 and 2 as 0 and 1\n",
    "    label = df.choice - 1\n",
    "    \n",
    "    #z-score all regresors in analysis\n",
    "    data= Subject(i).df[subset].iloc[:, 1:].apply(stats.zscore)\n",
    "\n",
    "    data = data.apply(stats.zscore)\n",
    "    data['prev_aff * difference'] = data['aff_feedback_prev'] * data['prev_diff_points']\n",
    "    \n",
    "\n",
    "    \n",
    "    y = np.array(label.values.tolist()).ravel()\n",
    "    x = np.array(data.values.tolist())\n",
    "    clf = LogisticRegression()\n",
    "    clf.fit(x, y)\n",
    "    \n",
    "    return clf.coef_[0].tolist()"
   ]
  },
  {
   "cell_type": "code",
   "execution_count": 19,
   "metadata": {},
   "outputs": [
    {
     "data": {
      "image/png": "[encoded data removed]",
      "text/plain": [
       "<Figure size 432x288 with 1 Axes>"
      ]
     },
     "metadata": {},
     "output_type": "display_data"
    }
   ],
   "source": [
    "#get subject list from list of files \n",
    "subject_list = (pd.Series([(i.split('/'))[1] for i in file_list]).unique())\n",
    "\n",
    "#make dataframe where subjects are rows and B0 per regressor are columns \n",
    "df = pd.DataFrame()\n",
    "for i in subject_list:\n",
    "    \n",
    "    x = list({i: get_model_weights(Subject(i).df)}.values())[0]\n",
    "    df[i] = x\n",
    "\n",
    "df = df.transpose()\n",
    "\n",
    "df.columns = ['is_social', 'aff_feedback_prev',\n",
    "            'prev_diff_points', 'prev_aff * difference', ]\n",
    "\n",
    "#plot\n",
    "sns.set(font_scale=.8)\n",
    "sns.set_style(\"whitegrid\")\n",
    "ax = sns.barplot(data=df)"
   ]
  }
 ],
 "metadata": {
  "kernelspec": {
   "display_name": "Python 3",
   "language": "python",
   "name": "python3"
  },
  "language_info": {
   "codemirror_mode": {
    "name": "ipython",
    "version": 3
   },
   "file_extension": ".py",
   "mimetype": "text/x-python",
   "name": "python",
   "nbconvert_exporter": "python",
   "pygments_lexer": "ipython3",
   "version": "3.8.2"
  }
 },
 "nbformat": 4,
 "nbformat_minor": 4
}
